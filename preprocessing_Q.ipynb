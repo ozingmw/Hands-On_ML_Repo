{
 "cells": [
  {
   "cell_type": "code",
   "execution_count": 1,
   "metadata": {},
   "outputs": [],
   "source": [
    "import tensorflow as tf\n",
    "from tensorflow import keras"
   ]
  },
  {
   "cell_type": "code",
   "execution_count": 3,
   "metadata": {},
   "outputs": [],
   "source": [
    "from sklearn.model_selection import train_test_split\n",
    "\n",
    "(X_train_full, y_train_full), (X_test, y_test) = keras.datasets.fashion_mnist.load_data()\n",
    "X_train, X_valid, y_train, y_valid = train_test_split(X_train_full, y_train_full, test_size=5000, random_state=42)"
   ]
  },
  {
   "cell_type": "code",
   "execution_count": 4,
   "metadata": {},
   "outputs": [],
   "source": [
    "train_set = tf.data.Dataset.from_tensor_slices((X_train, y_train)).shuffle(len(X_train))\n",
    "test_set = tf.data.Dataset.from_tensor_slices((X_test, y_test))\n",
    "valid_set = tf.data.Dataset.from_tensor_slices((X_valid, y_valid))"
   ]
  },
  {
   "cell_type": "code",
   "execution_count": 8,
   "metadata": {},
   "outputs": [],
   "source": [
    "from tensorflow.train import Feature, Features, Example, BytesList, Int64List\n",
    "\n",
    "def create_example(image, label):\n",
    "    image_data = tf.io.serialize_tensor(image)\n",
    "    return Example(\n",
    "        features=Features(\n",
    "            feature={\n",
    "                \"image\": Feature(bytes_list=BytesList(value=[image_data.numpy()])),\n",
    "                \"label\": Feature(int64_list=Int64List(value=[label]))\n",
    "            }\n",
    "        )\n",
    "    )"
   ]
  },
  {
   "cell_type": "code",
   "execution_count": 10,
   "metadata": {},
   "outputs": [
    {
     "name": "stdout",
     "output_type": "stream",
     "text": [
      "features {\n",
      "  feature {\n",
      "    key: \"image\"\n",
      "    value {\n",
      "      bytes_list {\n",
      "        value: \"\\010\\004\\022\\010\\022\\002\\010\\034\\022\\002\\010\\034\\\"\\220\\006\\000\\000\\000\\000\\000\\000\\000\\000\\000\\000\\000\\000\\000\\000\\000\\000\\000\\000\\000\\000\\000\\000\\000\\000\\000\\000\\000\\000\\000\\000\\000\\000\\000\\000\\000\\000\\000\\000\\000\\000\\000\\000\\000\\000\\000\\000\\000\\000\\000\\000\\000\\000\\000\\000\\000\\000\\000\\000\\000\\000\\000\\000\\000\\000\\000\\002\\004\\000\\000\\223}jq\\033\\000\\001\\000\\000\\000\\000\\000\\000\\000\\000\\000\\000\\000\\000\\001\\001\\000\\000\\000\\003\\000\\033\\306;\\000\\000\\020|(\\000\\002\\001\\000\\000\\000\\000\\000\\000\\000\\000\\000\\000\\000\\000\\001\\002\\000\\002\\000\\2552\\000\\000\\000\\000\\000\\211\\000\\000\\000\\001\\001\\000\\000\\001\\000\\000\\000\\000\\000\\000\\000\\000\\001\\000\\000\\003\\214\\000\\000\\000\\000\\n\\000e-\\000\\004\\000\\000\\001\\001\\000\\000\\000\\000\\000\\000\\000\\001\\000\\000\\004\\000\\035\\221\\000\\000\\002\\002\\003\\000+e\\000\\007\\000\\000\\000\\001\\000\\000\\000\\000\\000\\000\\000\\000\\000\\000\\002\\000i\\213\\000\\000\\000\\000\\001\\000\\007\\233\\000\\000\\000\\000\\000\\000\\000\\000\\000\\000\\001\\003\\005\\000\\001\\002\\000\\000\\270}\\000\\003\\001\\002\\004\\000\\000\\220\\010\\000\\000\\000\\000\\000\\003\\001\\000\\001\\000\\000\\000\\000\\000\\000\\000\\000\\347,\\000\\000\\000\\000\\000\\000\\000\\230$\\000\\000\\000\\000\\000\\000\\000\\000\\000\\000ccRTS;K\\317D%==?=;6\\267p6el\\\\JhC\\004\\000\\n\\264\\273\\263\\260\\302\\267\\241\\225\\226\\251\\260\\265\\270\\266\\254\\274\\247\\243\\250\\272\\271\\251\\234\\2409\\000\\000\\002R\\256\\242\\242\\207\\225\\234\\211\\212\\200\\202\\206\\211\\212\\210\\220\\227\\210\\224\\217\\247\\233\\217\\236\\000\\000)\\247\\017\\331\\243\\251\\225\\231\\223\\203\\231\\223\\212\\206\\205\\215\\221\\227\\231s\\237\\226\\262\\241\\223\\251\\000\\000\\311\\377\\000\\335\\241\\243\\234\\231\\246\\243\\216\\217\\212\\201\\177\\212\\222\\231\\246\\236\\221\\225\\260\\242\\220\\235\\000\\000\\331x\\000\\341\\244\\235\\234\\232\\243\\253\\222\\226\\227\\226\\230\\230\\232\\226\\235\\252\\240\\241\\265\\253\\224\\225\\0005\\352\\010\\000\\342\\257\\226\\227\\240\\237\\240\\240\\235\\235\\233\\232\\232\\235\\240\\245\\243\\251\\240\\261\\256\\224\\207\\000u\\366\\000\\000\\323\\267\\224\\223\\243\\241\\242\\240\\237\\242\\235\\231\\235\\242\\241\\241\\245\\247\\242\\261\\264\\235n\\000\\223\\255\\000\\000\\311\\274\\224\\217\\243\\243\\243\\242\\241\\242\\243\\244\\243\\241\\241\\242\\244\\245\\243\\261\\261\\255L\\000\\226\\235\\000\\000\\277\\276\\215\\227\\242\\242\\243\\244\\242\\242\\244\\245\\245\\243\\244\\245\\245\\245\\247\\253\\263\\265,\\000\\207\\226\\000\\000\\232\\303\\205\\230\\244\\243\\246\\247\\245\\250\\247\\246\\247\\250\\246\\247\\247\\250\\247\\247\\270\\251\\027\\000D\\274\\000\\000~\\350\\203\\240\\246\\247\\244\\246\\247\\246\\246\\242\\246\\247\\247\\247\\251\\251\\245\\245\\272\\246\\000\\000\\000\\235N\\000\\031\\344\\205\\237\\257\\255\\252\\261\\254\\247\\253\\246\\251\\244\\250\\247\\250\\247\\257\\235\\301\\204\\000\\000\\000\\000p?\\201\\346\\222\\247\\252\\247\\256\\251\\255\\254\\235\\243\\235\\244\\241\\242\\243\\242\\244\\240\\305p\\000\\000\\000\\000Y\\267\\272\\311\\275\\324\\333\\347\\351\\343\\332\\303\\264\\254\\255\\252\\247\\250\\252\\252\\255\\262\\331O\\000\\001\\002\\000p\\233xu_UPIVeF\\237\\367\\350\\342\\341\\334\\322\\304\\271\\270\\313\\217\\000\\000\\001\\002\\000\\025enz\\224\\250\\270\\301\\272\\267\\341+\\000\\000\\000\\000\\000\\000\\000\\000\\000\\000\\000\\000\\001\\000\\000\\000\\000\\000\\000\\000\\000\\000\\000\\000\\000\\000\\000\\000\\000\\000\\000\\000\\000\\000\\000\\000\\000\\000\\000\\000\\000\\000\"\n",
      "      }\n",
      "    }\n",
      "  }\n",
      "  feature {\n",
      "    key: \"label\"\n",
      "    value {\n",
      "      int64_list {\n",
      "        value: 8\n",
      "      }\n",
      "    }\n",
      "  }\n",
      "}\n",
      "\n"
     ]
    }
   ],
   "source": [
    "for image, label in valid_set.take(1):\n",
    "    print(create_example(image, label))"
   ]
  },
  {
   "cell_type": "code",
   "execution_count": 24,
   "metadata": {},
   "outputs": [],
   "source": [
    "from contextlib import ExitStack\n",
    "\n",
    "def to_tfrecords(name, dataset, n_shards=5):\n",
    "    paths = [\"{}.tfrecord-{:02d}-of-{:02d}\".format(name, index, n_shards) for index in range(n_shards)]\n",
    "    with ExitStack() as stack:\n",
    "        writers = [stack.enter_context(tf.io.TFRecordWriter(path)) for path in paths]\n",
    "        for index, (image, label) in dataset.enumerate():\n",
    "            shard = index % n_shards\n",
    "            example = create_example(image, label)\n",
    "            writers[shard].write(example.SerializeToString())\n",
    "    return paths"
   ]
  },
  {
   "cell_type": "code",
   "execution_count": 25,
   "metadata": {},
   "outputs": [],
   "source": [
    "train_filepaths = to_tfrecords(\"./tfrecords/my_fashion_mnist.train\", train_set)\n",
    "valid_filepaths = to_tfrecords(\"./tfrecords/my_fashion_mnist.valid\", valid_set)\n",
    "test_filepaths = to_tfrecords(\"./tfrecords/my_fashion_mnist.test\", test_set)"
   ]
  },
  {
   "cell_type": "code",
   "execution_count": null,
   "metadata": {},
   "outputs": [],
   "source": [
    "def proprecessing(inputs):\n",
    "    feature_descriptions={\n",
    "        \"image\": tf.io.FixedLenFeature([], tf.string, default_value=\"\"),\n",
    "        \"label\": tf.io.FixedLenFeature([], tf.int64, default_value=-1)\n",
    "    }\n",
    "    "
   ]
  }
 ],
 "metadata": {
  "interpreter": {
   "hash": "c4e1c02ba9a4315c9c9b9f3ccdc568bf0028a114bbf7c4447cf8df78c88a2f71"
  },
  "kernelspec": {
   "display_name": "Python 3.7.11 ('handson-ml2')",
   "language": "python",
   "name": "python3"
  },
  "language_info": {
   "codemirror_mode": {
    "name": "ipython",
    "version": 3
   },
   "file_extension": ".py",
   "mimetype": "text/x-python",
   "name": "python",
   "nbconvert_exporter": "python",
   "pygments_lexer": "ipython3",
   "version": "3.7.11"
  },
  "orig_nbformat": 4
 },
 "nbformat": 4,
 "nbformat_minor": 2
}
