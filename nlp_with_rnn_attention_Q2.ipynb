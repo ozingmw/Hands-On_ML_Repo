{
 "cells": [
  {
   "cell_type": "code",
   "execution_count": 1,
   "metadata": {},
   "outputs": [],
   "source": [
    "import tensorflow as tf\n",
    "from tensorflow import keras\n",
    "\n",
    "import matplotlib.pyplot as plt\n",
    "import matplotlib.ticker as ticker\n",
    "from sklearn.model_selection import train_test_split\n",
    "\n",
    "import unicodedata\n",
    "import re\n",
    "import numpy as np\n",
    "import os\n",
    "import io"
   ]
  },
  {
   "cell_type": "code",
   "execution_count": 2,
   "metadata": {},
   "outputs": [],
   "source": [
    "path_to_zip = tf.keras.utils.get_file('spa-eng.zip', origin='http://storage.googleapis.com/download.tensorflow.org/data/spa-eng.zip', extract=True)\n",
    "path_to_file = os.path.dirname(path_to_zip)+\"/spa-eng/spa.txt\""
   ]
  },
  {
   "cell_type": "code",
   "execution_count": 3,
   "metadata": {},
   "outputs": [],
   "source": [
    "def unicode_to_ascii(s):\n",
    "    return ''.join(c for c in unicodedata.normalize('NFD', s) if unicodedata.category(c) != 'Mn')\n",
    "\n",
    "def preprocess_sentence(w):\n",
    "    w = unicode_to_ascii(w.lower().strip())\n",
    "    w = re.sub(r\"([?.!,¿])\", r\" \\1 \", w)\n",
    "    w = re.sub(r'[\" \"]+', \" \", w)\n",
    "    w = re.sub(r\"[^a-zA-Z?.!,¿]+\", \" \", w)\n",
    "    w = w.strip()\n",
    "    w = '<start> ' + w + ' <end>'\n",
    "    return w"
   ]
  },
  {
   "cell_type": "code",
   "execution_count": 4,
   "metadata": {},
   "outputs": [
    {
     "name": "stdout",
     "output_type": "stream",
     "text": [
      "<start> may i borrow this book ? <end>\n",
      "b'<start> ? \\xc2\\xbf puedo tomar prestado este libro ? <end>'\n"
     ]
    }
   ],
   "source": [
    "en_sentence = u\"May I borrow this book?\"\n",
    "sp_sentence = u\"?¿Puedo tomar prestado este libro?\"\n",
    "print(preprocess_sentence(en_sentence))\n",
    "print(preprocess_sentence(sp_sentence).encode('utf-8'))"
   ]
  },
  {
   "cell_type": "code",
   "execution_count": 5,
   "metadata": {},
   "outputs": [],
   "source": [
    "def create_dataset(path, num_examples):\n",
    "    lines = io.open(path, encoding='UTF-8').read().strip().split('\\n')\n",
    "    word_pairs = [[preprocess_sentence(w) for w in l.split('\\t')]  for l in lines[:num_examples]]\n",
    "    return zip(*word_pairs)"
   ]
  },
  {
   "cell_type": "code",
   "execution_count": 6,
   "metadata": {},
   "outputs": [
    {
     "name": "stdout",
     "output_type": "stream",
     "text": [
      "<start> if you want to sound like a native speaker , you must be willing to practice saying the same sentence over and over in the same way that banjo players practice the same phrase over and over until they can play it correctly and at the desired tempo . <end>\n",
      "<start> si quieres sonar como un hablante nativo , debes estar dispuesto a practicar diciendo la misma frase una y otra vez de la misma manera en que un musico de banjo practica el mismo fraseo una y otra vez hasta que lo puedan tocar correctamente y en el tiempo esperado . <end>\n"
     ]
    }
   ],
   "source": [
    "en, sp = create_dataset(path_to_file, None)\n",
    "print(en[-1])\n",
    "print(sp[-1])"
   ]
  },
  {
   "cell_type": "code",
   "execution_count": 7,
   "metadata": {},
   "outputs": [],
   "source": [
    "def tokenize(lang):\n",
    "    lang_tokenize = keras.preprocessing.text.Tokenizer(filters=\" \")\n",
    "    lang_tokenize.fit_on_texts(lang)\n",
    "    tensor = lang_tokenize.texts_to_sequences(lang)\n",
    "    tensor = keras.preprocessing.sequence.pad_sequences(tensor, padding=\"post\")\n",
    "    return tensor, lang_tokenize"
   ]
  },
  {
   "cell_type": "code",
   "execution_count": 8,
   "metadata": {},
   "outputs": [],
   "source": [
    "def load_dataset(path, num_examples=None):\n",
    "  targ_lang, inp_lang = create_dataset(path, num_examples)\n",
    "  input_tensor, inp_lang_tokenizer = tokenize(inp_lang)\n",
    "  target_tensor, targ_lang_tokenizer = tokenize(targ_lang)\n",
    "  return input_tensor, target_tensor, inp_lang_tokenizer, targ_lang_tokenizer"
   ]
  },
  {
   "cell_type": "code",
   "execution_count": 9,
   "metadata": {},
   "outputs": [
    {
     "data": {
      "text/plain": [
       "(100000, 20)"
      ]
     },
     "execution_count": 9,
     "metadata": {},
     "output_type": "execute_result"
    }
   ],
   "source": [
    "num_examples = 100000\n",
    "target_tensor, input_tensor, targ_lang, inp_lang = load_dataset(path_to_file, num_examples)\n",
    "max_length_targ, max_length_inp = target_tensor.shape[1], input_tensor.shape[1]\n",
    "input_tensor_train, input_tensor_val, target_tensor_train, target_tensor_val = train_test_split(input_tensor, target_tensor, test_size=0.2)\n",
    "target_tensor.shape"
   ]
  },
  {
   "cell_type": "code",
   "execution_count": 10,
   "metadata": {},
   "outputs": [],
   "source": [
    "def convert(lang, tensor):\n",
    "    for t in tensor:\n",
    "        if t != 0:\n",
    "            print(\"%d =====> %s\" % (t, lang.index_word[t]))"
   ]
  },
  {
   "cell_type": "code",
   "execution_count": 11,
   "metadata": {},
   "outputs": [
    {
     "name": "stdout",
     "output_type": "stream",
     "text": [
      "Input Language; index to word mapping\n",
      "1 =====> <start>\n",
      "45 =====> they\n",
      "18 =====> do\n",
      "166 =====> nothing\n",
      "181 =====> but\n",
      "587 =====> cry\n",
      "3 =====> .\n",
      "2 =====> <end>\n",
      "\n",
      "Target Language; index to word mapping\n",
      "1 =====> <start>\n",
      "7 =====> no\n",
      "1034 =====> hacen\n",
      "34 =====> mas\n",
      "4 =====> que\n",
      "600 =====> llorar\n",
      "3 =====> .\n",
      "2 =====> <end>\n"
     ]
    }
   ],
   "source": [
    "print (\"Input Language; index to word mapping\")\n",
    "convert(inp_lang, input_tensor_train[0])\n",
    "print ()\n",
    "print (\"Target Language; index to word mapping\")\n",
    "convert(targ_lang, target_tensor_train[0])"
   ]
  },
  {
   "cell_type": "code",
   "execution_count": 12,
   "metadata": {},
   "outputs": [],
   "source": [
    "buffer_size = len(input_tensor_train)\n",
    "batch_size = 256\n",
    "steps_per_epoch = len(input_tensor_train) // batch_size\n",
    "embedding_dim = 256\n",
    "units = 1024\n",
    "vocab_inp_size = len(inp_lang.word_index) + 1\n",
    "vocab_tar_size = len(targ_lang.word_index) + 1"
   ]
  },
  {
   "cell_type": "code",
   "execution_count": 13,
   "metadata": {},
   "outputs": [],
   "source": [
    "dataset = tf.data.Dataset.from_tensor_slices((input_tensor_train, target_tensor_train)).shuffle(buffer_size)\n",
    "dataset = dataset.batch(batch_size, drop_remainder=True)"
   ]
  },
  {
   "cell_type": "code",
   "execution_count": 14,
   "metadata": {},
   "outputs": [
    {
     "data": {
      "text/plain": [
       "(TensorShape([256, 17]), TensorShape([256, 20]))"
      ]
     },
     "execution_count": 14,
     "metadata": {},
     "output_type": "execute_result"
    }
   ],
   "source": [
    "example_input_batch, example_target_batch = next(iter(dataset))\n",
    "example_input_batch.shape, example_target_batch.shape"
   ]
  },
  {
   "cell_type": "code",
   "execution_count": 15,
   "metadata": {},
   "outputs": [],
   "source": [
    "class Encoder(keras.Model):\n",
    "    def __init__(self, vocab_size, embedding_dim, encoding_units, batch_size):\n",
    "        super(Encoder, self).__init__()\n",
    "        self.batch_size = batch_size\n",
    "        self.encoding_units = encoding_units\n",
    "        self.embedding = keras.layers.Embedding(vocab_size, embedding_dim)\n",
    "        self.gru = keras.layers.GRU(self.encoding_units, return_sequences=True, return_state=True, recurrent_initializer=\"glorot_uniform\")\n",
    "\n",
    "    def call(self, x, hidden):\n",
    "        x = self.embedding(x)\n",
    "        output, state = self.gru(x, initial_state=hidden)\n",
    "        return output, state\n",
    "\n",
    "    def initialize_hidden_state(self):\n",
    "        return tf.zeros((self.batch_size, self.encoding_units))"
   ]
  },
  {
   "cell_type": "code",
   "execution_count": 16,
   "metadata": {},
   "outputs": [
    {
     "data": {
      "text/plain": [
       "(TensorShape([256, 17, 1024]), TensorShape([256, 1024]))"
      ]
     },
     "execution_count": 16,
     "metadata": {},
     "output_type": "execute_result"
    }
   ],
   "source": [
    "encoder = Encoder(vocab_inp_size, embedding_dim, units, batch_size)\n",
    "\n",
    "sample_hidden = encoder.initialize_hidden_state()\n",
    "sample_output, sample_hidden = encoder(example_input_batch, sample_hidden)\n",
    "sample_output.shape, sample_hidden.shape"
   ]
  },
  {
   "cell_type": "code",
   "execution_count": 17,
   "metadata": {},
   "outputs": [],
   "source": [
    "class BahdanuAttention(keras.layers.Layer):\n",
    "    def __init__(self, units):\n",
    "        super(BahdanuAttention, self).__init__()\n",
    "        self.W1 = keras.layers.Dense(units)\n",
    "        self.W2 = keras.layers.Dense(units)\n",
    "        self.V = keras.layers.Dense(1)\n",
    "\n",
    "    def call(self, query, values):\n",
    "        query_with_time_axis = tf.expand_dims(query, 1)\n",
    "        score = self.V(tf.nn.tanh(self.W1(query_with_time_axis) + self.W2(values)))\n",
    "        attention_weights = tf.nn.softmax(score, axis=1)\n",
    "        context_vector = attention_weights * values\n",
    "        context_vector = tf.reduce_sum(context_vector, axis=1)\n",
    "        return context_vector, attention_weights"
   ]
  },
  {
   "cell_type": "code",
   "execution_count": 18,
   "metadata": {},
   "outputs": [
    {
     "data": {
      "text/plain": [
       "(TensorShape([256, 1024]), TensorShape([256, 17, 1]))"
      ]
     },
     "execution_count": 18,
     "metadata": {},
     "output_type": "execute_result"
    }
   ],
   "source": [
    "attention_layer = BahdanuAttention(10)\n",
    "attention_result, attention_weights = attention_layer(sample_hidden, sample_output)\n",
    "attention_result.shape, attention_weights.shape"
   ]
  },
  {
   "cell_type": "code",
   "execution_count": 19,
   "metadata": {},
   "outputs": [],
   "source": [
    "class Decoder(keras.Model):\n",
    "    def __init__(self, vocab_size, embedding_dim, decoding_units, batch_size):\n",
    "        super(Decoder, self).__init__()\n",
    "        self.batch_size = batch_size\n",
    "        self.decoding_units = decoding_units\n",
    "        self.embedding = keras.layers.Embedding(vocab_size, embedding_dim)\n",
    "        self.gru = keras.layers.GRU(self.decoding_units, return_sequences=True, return_state=True, recurrent_initializer=\"glorot_uniform\")\n",
    "        self.fc = keras.layers.Dense(vocab_size)\n",
    "        self.attention = BahdanuAttention(self.decoding_units)\n",
    "\n",
    "    def call(self, x, hidden, encoding_output):\n",
    "        context_vector, attention_weights = self.attention(hidden, encoding_output)\n",
    "        x = self.embedding(x)\n",
    "        x = tf.concat([tf.expand_dims(context_vector, 1), x], axis=-1)\n",
    "        output, state = self.gru(x)\n",
    "        output = tf.reshape(output, (-1, output.shape[2]))\n",
    "        x = self.fc(output)\n",
    "        return x, state, attention_weights"
   ]
  },
  {
   "cell_type": "code",
   "execution_count": 20,
   "metadata": {},
   "outputs": [
    {
     "data": {
      "text/plain": [
       "TensorShape([256, 20708])"
      ]
     },
     "execution_count": 20,
     "metadata": {},
     "output_type": "execute_result"
    }
   ],
   "source": [
    "decoder = Decoder(vocab_tar_size, embedding_dim, units, batch_size)\n",
    "sample_decoder_output, _, _ = decoder(tf.random.uniform((batch_size, 1)), sample_hidden, sample_output)\n",
    "sample_decoder_output.shape"
   ]
  },
  {
   "cell_type": "code",
   "execution_count": 21,
   "metadata": {},
   "outputs": [],
   "source": [
    "optimizer = tf.keras.optimizers.Adam()\n",
    "loss_object = tf.keras.losses.SparseCategoricalCrossentropy(from_logits=True, reduction='none')\n",
    "\n",
    "def loss_function(real, pred):\n",
    "    mask = tf.math.logical_not(tf.math.equal(real, 0))\n",
    "    loss_ = loss_object(real, pred)\n",
    "\n",
    "    mask = tf.cast(mask, dtype=loss_.dtype)\n",
    "    loss_ *= mask\n",
    "\n",
    "    return tf.reduce_mean(loss_)"
   ]
  },
  {
   "cell_type": "code",
   "execution_count": 22,
   "metadata": {},
   "outputs": [],
   "source": [
    "@tf.function\n",
    "def train_step(input, target, encoding_hidden):\n",
    "    loss = 0\n",
    "    \n",
    "    with tf.GradientTape() as tape:\n",
    "        encoding_output, encoding_hidden = encoder(input, encoding_hidden)\n",
    "        decoding_hidden = encoding_hidden\n",
    "        decoding_input = tf.expand_dims([targ_lang.word_index[\"<start>\"]] * batch_size, 1)\n",
    "        \n",
    "        for t in range(1, target.shape[1]):\n",
    "            predictions, decoding_hidden, _ = decoder(decoding_input, decoding_hidden, encoding_output)\n",
    "            loss += loss_function(target[:, t], predictions)\n",
    "            decoding_input = tf.expand_dims(target[:, t], 1)\n",
    "        \n",
    "        batch_loss = (loss / int(target.shape[1]))\n",
    "        variables = encoder.trainable_variables + decoder.trainable_variables\n",
    "        gradients = tape.gradient(loss, variables)\n",
    "        optimizer.apply_gradients(zip(gradients, variables))\n",
    "        return batch_loss"
   ]
  },
  {
   "cell_type": "code",
   "execution_count": 23,
   "metadata": {},
   "outputs": [
    {
     "name": "stdout",
     "output_type": "stream",
     "text": [
      "Epoch : 1    Batch : 0    Loss : 3.734734296798706\n",
      "Epoch : 1    Batch : 100    Loss : 1.9730770587921143\n",
      "Epoch : 1    Batch : 200    Loss : 1.7939656972885132\n",
      "Epoch : 1    Batch : 300    Loss : 1.7173489332199097\n",
      "Time taken for 1 epoch 161.0663366317749 sec\n",
      "\n",
      "Epoch : 2    Batch : 0    Loss : 1.610432505607605\n",
      "Epoch : 2    Batch : 100    Loss : 1.5219004154205322\n",
      "Epoch : 2    Batch : 200    Loss : 1.480718970298767\n",
      "Epoch : 2    Batch : 300    Loss : 1.3568395376205444\n",
      "Time taken for 1 epoch 147.56732964515686 sec\n",
      "\n",
      "Epoch : 3    Batch : 0    Loss : 1.3056440353393555\n",
      "Epoch : 3    Batch : 100    Loss : 1.3161450624465942\n",
      "Epoch : 3    Batch : 200    Loss : 1.3059170246124268\n",
      "Epoch : 3    Batch : 300    Loss : 1.22095787525177\n",
      "Time taken for 1 epoch 148.4776930809021 sec\n",
      "\n",
      "Epoch : 4    Batch : 0    Loss : 1.2077354192733765\n",
      "Epoch : 4    Batch : 100    Loss : 1.0960744619369507\n",
      "Epoch : 4    Batch : 200    Loss : 1.0786186456680298\n",
      "Epoch : 4    Batch : 300    Loss : 1.082518458366394\n",
      "Time taken for 1 epoch 148.6562042236328 sec\n",
      "\n",
      "Epoch : 5    Batch : 0    Loss : 1.0399702787399292\n",
      "Epoch : 5    Batch : 100    Loss : 0.9407912492752075\n",
      "Epoch : 5    Batch : 200    Loss : 0.9140701293945312\n",
      "Epoch : 5    Batch : 300    Loss : 0.8672065734863281\n",
      "Time taken for 1 epoch 148.32831358909607 sec\n",
      "\n",
      "Epoch : 6    Batch : 0    Loss : 0.7503552436828613\n",
      "Epoch : 6    Batch : 100    Loss : 0.7175015807151794\n",
      "Epoch : 6    Batch : 200    Loss : 0.6969549059867859\n",
      "Epoch : 6    Batch : 300    Loss : 0.6962271332740784\n",
      "Time taken for 1 epoch 148.01168847084045 sec\n",
      "\n",
      "Epoch : 7    Batch : 0    Loss : 0.5574530363082886\n",
      "Epoch : 7    Batch : 100    Loss : 0.5302188992500305\n",
      "Epoch : 7    Batch : 200    Loss : 0.5342327356338501\n",
      "Epoch : 7    Batch : 300    Loss : 0.5038971900939941\n",
      "Time taken for 1 epoch 148.29586338996887 sec\n",
      "\n",
      "Epoch : 8    Batch : 0    Loss : 0.39649006724357605\n",
      "Epoch : 8    Batch : 100    Loss : 0.41966715455055237\n",
      "Epoch : 8    Batch : 200    Loss : 0.41421595215797424\n",
      "Epoch : 8    Batch : 300    Loss : 0.4049399495124817\n",
      "Time taken for 1 epoch 147.9194951057434 sec\n",
      "\n",
      "Epoch : 9    Batch : 0    Loss : 0.31186848878860474\n",
      "Epoch : 9    Batch : 100    Loss : 0.3403241038322449\n",
      "Epoch : 9    Batch : 200    Loss : 0.3465520739555359\n",
      "Epoch : 9    Batch : 300    Loss : 0.3479286730289459\n",
      "Time taken for 1 epoch 148.32092475891113 sec\n",
      "\n",
      "Epoch : 10    Batch : 0    Loss : 0.25740572810173035\n",
      "Epoch : 10    Batch : 100    Loss : 0.29085269570350647\n",
      "Epoch : 10    Batch : 200    Loss : 0.2904212474822998\n",
      "Epoch : 10    Batch : 300    Loss : 0.2778439223766327\n",
      "Time taken for 1 epoch 148.242014169693 sec\n",
      "\n",
      "Epoch : 11    Batch : 0    Loss : 0.22216324508190155\n",
      "Epoch : 11    Batch : 100    Loss : 0.2229720652103424\n",
      "Epoch : 11    Batch : 200    Loss : 0.19765597581863403\n",
      "Epoch : 11    Batch : 300    Loss : 0.2436327487230301\n",
      "Time taken for 1 epoch 143.34623527526855 sec\n",
      "\n",
      "Epoch : 12    Batch : 0    Loss : 0.1724790781736374\n",
      "Epoch : 12    Batch : 100    Loss : 0.18161869049072266\n",
      "Epoch : 12    Batch : 200    Loss : 0.1850232183933258\n",
      "Epoch : 12    Batch : 300    Loss : 0.19099406898021698\n",
      "Time taken for 1 epoch 146.1778175830841 sec\n",
      "\n",
      "Epoch : 13    Batch : 0    Loss : 0.14789216220378876\n",
      "Epoch : 13    Batch : 100    Loss : 0.15493826568126678\n",
      "Epoch : 13    Batch : 200    Loss : 0.13609041273593903\n",
      "Epoch : 13    Batch : 300    Loss : 0.1794923096895218\n",
      "Time taken for 1 epoch 147.34549140930176 sec\n",
      "\n",
      "Epoch : 14    Batch : 0    Loss : 0.12425296753644943\n",
      "Epoch : 14    Batch : 100    Loss : 0.13915704190731049\n",
      "Epoch : 14    Batch : 200    Loss : 0.13355468213558197\n",
      "Epoch : 14    Batch : 300    Loss : 0.13478390872478485\n",
      "Time taken for 1 epoch 146.6357650756836 sec\n",
      "\n",
      "Epoch : 15    Batch : 0    Loss : 0.10682296752929688\n",
      "Epoch : 15    Batch : 100    Loss : 0.11712296307086945\n",
      "Epoch : 15    Batch : 200    Loss : 0.12321677058935165\n",
      "Epoch : 15    Batch : 300    Loss : 0.11101885139942169\n",
      "Time taken for 1 epoch 147.0328404903412 sec\n",
      "\n",
      "Epoch : 16    Batch : 0    Loss : 0.08632713556289673\n",
      "Epoch : 16    Batch : 100    Loss : 0.09404725581407547\n",
      "Epoch : 16    Batch : 200    Loss : 0.11060823500156403\n",
      "Epoch : 16    Batch : 300    Loss : 0.0988183245062828\n",
      "Time taken for 1 epoch 146.36909413337708 sec\n",
      "\n",
      "Epoch : 17    Batch : 0    Loss : 0.07510901987552643\n",
      "Epoch : 17    Batch : 100    Loss : 0.07672462612390518\n",
      "Epoch : 17    Batch : 200    Loss : 0.09307121485471725\n",
      "Epoch : 17    Batch : 300    Loss : 0.08624985069036484\n",
      "Time taken for 1 epoch 146.32594752311707 sec\n",
      "\n",
      "Epoch : 18    Batch : 0    Loss : 0.05728056654334068\n",
      "Epoch : 18    Batch : 100    Loss : 0.07205097377300262\n",
      "Epoch : 18    Batch : 200    Loss : 0.08351891487836838\n",
      "Epoch : 18    Batch : 300    Loss : 0.09529856592416763\n",
      "Time taken for 1 epoch 146.669935464859 sec\n",
      "\n",
      "Epoch : 19    Batch : 0    Loss : 0.058994900435209274\n",
      "Epoch : 19    Batch : 100    Loss : 0.06461457908153534\n",
      "Epoch : 19    Batch : 200    Loss : 0.06863512098789215\n",
      "Epoch : 19    Batch : 300    Loss : 0.08857307583093643\n",
      "Time taken for 1 epoch 146.43715381622314 sec\n",
      "\n",
      "Epoch : 20    Batch : 0    Loss : 0.05197121575474739\n",
      "Epoch : 20    Batch : 100    Loss : 0.06164565309882164\n",
      "Epoch : 20    Batch : 200    Loss : 0.06803549826145172\n",
      "Epoch : 20    Batch : 300    Loss : 0.07854615896940231\n",
      "Time taken for 1 epoch 146.3997447490692 sec\n",
      "\n"
     ]
    }
   ],
   "source": [
    "import time\n",
    "\n",
    "epochs = 20\n",
    "\n",
    "for epoch in range(epochs):\n",
    "    start = time.time()\n",
    "    encoding_hidden = encoder.initialize_hidden_state()\n",
    "    total_loss = 0\n",
    "\n",
    "    for (batch, (input, target)) in enumerate(dataset.take(steps_per_epoch)):\n",
    "        batch_loss = train_step(input, target, encoding_hidden)\n",
    "        total_loss += batch_loss\n",
    "\n",
    "        if batch % 100 == 0:\n",
    "            print(f\"Epoch : {epoch+1}    Batch : {batch}    Loss : {batch_loss.numpy()}\")\n",
    "\n",
    "    print('Time taken for 1 epoch {} sec\\n'.format(time.time() - start))"
   ]
  },
  {
   "cell_type": "code",
   "execution_count": 24,
   "metadata": {},
   "outputs": [],
   "source": [
    "def evaluate(sentence):\n",
    "    attention_plot = np.zeros((max_length_targ, max_length_inp))\n",
    "    sentence = preprocess_sentence(sentence)\n",
    "    \n",
    "    inputs = [inp_lang.word_index[i] for i in sentence.split(\" \")]\n",
    "    inputs = keras.preprocessing.sequence.pad_sequences([inputs], maxlen=max_length_inp, padding=\"post\")\n",
    "    inputs = tf.convert_to_tensor(inputs)\n",
    "\n",
    "    result = \"\"\n",
    "\n",
    "    hidden = [tf.zeros((1, units))]\n",
    "    encoding_output, encoding_hidden = encoder(inputs, hidden)\n",
    "    decoding_hidden = encoding_hidden\n",
    "    decoding_input = tf.expand_dims([targ_lang.word_index[\"<start>\"]], 0)\n",
    "\n",
    "    for t in range(max_length_targ):\n",
    "        prediction, decoding_hidden, attention_weights = decoder(decoding_input, decoding_hidden, encoding_output)\n",
    "        attention_weights = tf.reshape(attention_weights, (-1, ))\n",
    "        attention_plot[t] = attention_weights.numpy()\n",
    "        prediction_id = tf.argmax(prediction[0]).numpy()\n",
    "        result += targ_lang.index_word[prediction_id] + \" \"\n",
    "        \n",
    "        if targ_lang.index_word[prediction_id] == \"<end>\":\n",
    "            return result, sentence, attention_plot\n",
    "        \n",
    "        decoding_input = tf.expand_dims([prediction_id], 0)\n",
    "    return result, sentence, attention_plot"
   ]
  },
  {
   "cell_type": "code",
   "execution_count": 25,
   "metadata": {},
   "outputs": [],
   "source": [
    "def plot_attention(attention, sentence, predicted_sentence):\n",
    "    fig = plt.figure(figsize=(10,10))\n",
    "    ax = fig.add_subplot(1, 1, 1)\n",
    "    ax.matshow(attention, cmap='viridis')\n",
    "\n",
    "    fontdict = {'fontsize': 14}\n",
    "\n",
    "    ax.set_xticklabels([''] + sentence, fontdict=fontdict, rotation=90)\n",
    "    ax.set_yticklabels([''] + predicted_sentence, fontdict=fontdict)\n",
    "\n",
    "    ax.xaxis.set_major_locator(ticker.MultipleLocator(1))\n",
    "    ax.yaxis.set_major_locator(ticker.MultipleLocator(1))\n",
    "\n",
    "    plt.show()"
   ]
  },
  {
   "cell_type": "code",
   "execution_count": 26,
   "metadata": {},
   "outputs": [],
   "source": [
    "def translate(sentence):\n",
    "  result, sentence, attention_plot = evaluate(sentence)\n",
    "\n",
    "  print('Input: %s' % (sentence))\n",
    "  print('Predicted translation: {}'.format(result))\n",
    "\n",
    "  attention_plot = attention_plot[:len(result.split(' ')), :len(sentence.split(' '))]\n",
    "  plot_attention(attention_plot, sentence.split(' '), result.split(' '))"
   ]
  },
  {
   "cell_type": "code",
   "execution_count": 36,
   "metadata": {},
   "outputs": [
    {
     "name": "stdout",
     "output_type": "stream",
     "text": [
      "Input: <start> it s very cold here <end>\n",
      "Predicted translation: esta muy frio que pela . <end> \n"
     ]
    },
    {
     "name": "stderr",
     "output_type": "stream",
     "text": [
      "C:\\Users\\ozing\\miniconda3\\envs\\handson-ml2\\lib\\site-packages\\ipykernel_launcher.py:8: UserWarning: FixedFormatter should only be used together with FixedLocator\n",
      "  \n",
      "C:\\Users\\ozing\\miniconda3\\envs\\handson-ml2\\lib\\site-packages\\ipykernel_launcher.py:9: UserWarning: FixedFormatter should only be used together with FixedLocator\n",
      "  if __name__ == '__main__':\n"
     ]
    },
    {
     "data": {
      "image/png": "[encoded data removed]",
      "text/plain": [
       "<Figure size 720x720 with 1 Axes>"
      ]
     },
     "metadata": {
      "needs_background": "light"
     },
     "output_type": "display_data"
    }
   ],
   "source": [
    "translate(u\"it's very cold here\")"
   ]
  }
 ],
 "metadata": {
  "interpreter": {
   "hash": "c4e1c02ba9a4315c9c9b9f3ccdc568bf0028a114bbf7c4447cf8df78c88a2f71"
  },
  "kernelspec": {
   "display_name": "Python 3.7.12 ('handson-ml2')",
   "language": "python",
   "name": "python3"
  },
  "language_info": {
   "codemirror_mode": {
    "name": "ipython",
    "version": 3
   },
   "file_extension": ".py",
   "mimetype": "text/x-python",
   "name": "python",
   "nbconvert_exporter": "python",
   "pygments_lexer": "ipython3",
   "version": "3.7.12"
  },
  "orig_nbformat": 4
 },
 "nbformat": 4,
 "nbformat_minor": 2
}
