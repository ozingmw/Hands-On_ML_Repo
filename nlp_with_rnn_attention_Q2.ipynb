{
 "cells": [
  {
   "cell_type": "code",
   "execution_count": 76,
   "metadata": {},
   "outputs": [],
   "source": [
    "import tensorflow as tf\n",
    "from tensorflow import keras\n",
    "\n",
    "import matplotlib.pyplot as plt\n",
    "import matplotlib.ticker as ticker\n",
    "from sklearn.model_selection import train_test_split\n",
    "\n",
    "import unicodedata\n",
    "import re\n",
    "import numpy as np\n",
    "import os\n",
    "import io"
   ]
  },
  {
   "cell_type": "code",
   "execution_count": 77,
   "metadata": {},
   "outputs": [],
   "source": [
    "path_to_zip = tf.keras.utils.get_file('spa-eng.zip', origin='http://storage.googleapis.com/download.tensorflow.org/data/spa-eng.zip', extract=True)\n",
    "path_to_file = os.path.dirname(path_to_zip)+\"/spa-eng/spa.txt\""
   ]
  },
  {
   "cell_type": "code",
   "execution_count": 78,
   "metadata": {},
   "outputs": [],
   "source": [
    "def unicode_to_ascii(s):\n",
    "    return ''.join(c for c in unicodedata.normalize('NFD', s) if unicodedata.category(c) != 'Mn')\n",
    "\n",
    "def preprocess_sentence(w):\n",
    "    w = unicode_to_ascii(w.lower().strip())\n",
    "    w = re.sub(r\"([?.!,¿])\", r\" \\1 \", w)\n",
    "    w = re.sub(r'[\" \"]+', \" \", w)\n",
    "    w = re.sub(r\"[^a-zA-Z?.!,¿]+\", \" \", w)\n",
    "    w = w.strip()\n",
    "    w = '<start> ' + w + ' <end>'\n",
    "    return w"
   ]
  },
  {
   "cell_type": "code",
   "execution_count": 79,
   "metadata": {},
   "outputs": [
    {
     "name": "stdout",
     "output_type": "stream",
     "text": [
      "<start> may i borrow this book ? <end>\n",
      "b'<start> ? \\xc2\\xbf puedo tomar prestado este libro ? <end>'\n"
     ]
    }
   ],
   "source": [
    "en_sentence = u\"May I borrow this book?\"\n",
    "sp_sentence = u\"?¿Puedo tomar prestado este libro?\"\n",
    "print(preprocess_sentence(en_sentence))\n",
    "print(preprocess_sentence(sp_sentence).encode('utf-8'))"
   ]
  },
  {
   "cell_type": "code",
   "execution_count": 80,
   "metadata": {},
   "outputs": [],
   "source": [
    "def create_dataset(path, num_examples):\n",
    "    lines = io.open(path, encoding='UTF-8').read().strip().split('\\n')\n",
    "    word_pairs = [[preprocess_sentence(w) for w in l.split('\\t')]  for l in lines[:num_examples]]\n",
    "    return zip(*word_pairs)"
   ]
  },
  {
   "cell_type": "code",
   "execution_count": 81,
   "metadata": {},
   "outputs": [
    {
     "name": "stdout",
     "output_type": "stream",
     "text": [
      "<start> if you want to sound like a native speaker , you must be willing to practice saying the same sentence over and over in the same way that banjo players practice the same phrase over and over until they can play it correctly and at the desired tempo . <end>\n",
      "<start> si quieres sonar como un hablante nativo , debes estar dispuesto a practicar diciendo la misma frase una y otra vez de la misma manera en que un musico de banjo practica el mismo fraseo una y otra vez hasta que lo puedan tocar correctamente y en el tiempo esperado . <end>\n"
     ]
    }
   ],
   "source": [
    "en, sp = create_dataset(path_to_file, None)\n",
    "print(en[-1])\n",
    "print(sp[-1])"
   ]
  },
  {
   "cell_type": "code",
   "execution_count": 82,
   "metadata": {},
   "outputs": [],
   "source": [
    "def tokenize(lang):\n",
    "    lang_tokenize = keras.preprocessing.text.Tokenizer(filters=\" \")\n",
    "    lang_tokenize.fit_on_texts(lang)\n",
    "    tensor = lang_tokenize.texts_to_sequences(lang)\n",
    "    tensor = keras.preprocessing.sequence.pad_sequences(tensor, padding=\"post\")\n",
    "    return tensor, lang_tokenize"
   ]
  },
  {
   "cell_type": "code",
   "execution_count": 83,
   "metadata": {},
   "outputs": [],
   "source": [
    "def load_dataset(path, num_examples=None):\n",
    "  targ_lang, inp_lang = create_dataset(path, num_examples)\n",
    "  input_tensor, inp_lang_tokenizer = tokenize(inp_lang)\n",
    "  target_tensor, targ_lang_tokenizer = tokenize(targ_lang)\n",
    "  return input_tensor, target_tensor, inp_lang_tokenizer, targ_lang_tokenizer"
   ]
  },
  {
   "cell_type": "code",
   "execution_count": 84,
   "metadata": {},
   "outputs": [],
   "source": [
    "# num_examples = 100000\n",
    "target_tensor, input_tensor, targ_lang, inp_lang = load_dataset(path_to_file)\n",
    "max_length_targ, max_length_inp = target_tensor.shape[1], input_tensor.shape[1]\n",
    "input_tensor_train, input_tensor_val, target_tensor_train, target_tensor_val = train_test_split(input_tensor, target_tensor, test_size=0.2)"
   ]
  },
  {
   "cell_type": "code",
   "execution_count": 85,
   "metadata": {},
   "outputs": [],
   "source": [
    "def convert(lang, tensor):\n",
    "    for t in tensor:\n",
    "        if t != 0:\n",
    "            print(\"%d =====> %s\" % (t, lang.index_word[t]))"
   ]
  },
  {
   "cell_type": "code",
   "execution_count": 86,
   "metadata": {},
   "outputs": [
    {
     "name": "stdout",
     "output_type": "stream",
     "text": [
      "Input Language; index to word mapping\n",
      "1 =====> <start>\n",
      "4 =====> i\n",
      "21 =====> was\n",
      "64 =====> about\n",
      "7 =====> to\n",
      "2096 =====> suggest\n",
      "6 =====> the\n",
      "295 =====> same\n",
      "289 =====> thing\n",
      "3 =====> .\n",
      "2 =====> <end>\n",
      "\n",
      "Target Language; index to word mapping\n",
      "1 =====> <start>\n",
      "631 =====> estuve\n",
      "9 =====> a\n",
      "461 =====> punto\n",
      "8 =====> de\n",
      "8877 =====> sugerir\n",
      "20 =====> lo\n",
      "163 =====> mismo\n",
      "3 =====> .\n",
      "2 =====> <end>\n"
     ]
    }
   ],
   "source": [
    "print (\"Input Language; index to word mapping\")\n",
    "convert(inp_lang, input_tensor_train[0])\n",
    "print ()\n",
    "print (\"Target Language; index to word mapping\")\n",
    "convert(targ_lang, target_tensor_train[0])"
   ]
  },
  {
   "cell_type": "code",
   "execution_count": 87,
   "metadata": {},
   "outputs": [],
   "source": [
    "buffer_size = len(input_tensor_train)\n",
    "batch_size = 512\n",
    "steps_per_epoch = len(input_tensor_train) // batch_size\n",
    "embedding_dim = 512\n",
    "units = 1024\n",
    "vocab_inp_size = len(inp_lang.word_index) + 1\n",
    "vocab_tar_size = len(targ_lang.word_index) + 1"
   ]
  },
  {
   "cell_type": "code",
   "execution_count": 88,
   "metadata": {},
   "outputs": [],
   "source": [
    "dataset = tf.data.Dataset.from_tensor_slices((input_tensor_train, target_tensor_train)).shuffle(buffer_size)\n",
    "dataset = dataset.batch(batch_size, drop_remainder=True)"
   ]
  },
  {
   "cell_type": "code",
   "execution_count": 89,
   "metadata": {},
   "outputs": [
    {
     "data": {
      "text/plain": [
       "(TensorShape([256, 17]), TensorShape([256, 20]))"
      ]
     },
     "execution_count": 89,
     "metadata": {},
     "output_type": "execute_result"
    }
   ],
   "source": [
    "example_input_batch, example_target_batch = next(iter(dataset))\n",
    "example_input_batch.shape, example_target_batch.shape"
   ]
  },
  {
   "cell_type": "code",
   "execution_count": 90,
   "metadata": {},
   "outputs": [],
   "source": [
    "class Encoder(keras.Model):\n",
    "    def __init__(self, vocab_size, embedding_dim, encoding_units, batch_size):\n",
    "        super(Encoder, self).__init__()\n",
    "        self.batch_size = batch_size\n",
    "        self.encoding_units = encoding_units\n",
    "        self.embedding = keras.layers.Embedding(vocab_size, embedding_dim)\n",
    "        self.gru = keras.layers.GRU(self.encoding_units, return_sequences=True, return_state=True, recurrent_initializer=\"glorot_uniform\")\n",
    "\n",
    "    def call(self, x, hidden):\n",
    "        x = self.embedding(x)\n",
    "        output, state = self.gru(x, initial_state=hidden)\n",
    "        return output, state\n",
    "\n",
    "    def initialize_hidden_state(self):\n",
    "        return tf.zeros((self.batch_size, self.encoding_units))"
   ]
  },
  {
   "cell_type": "code",
   "execution_count": 91,
   "metadata": {},
   "outputs": [
    {
     "data": {
      "text/plain": [
       "(TensorShape([256, 17, 1024]), TensorShape([256, 1024]))"
      ]
     },
     "execution_count": 91,
     "metadata": {},
     "output_type": "execute_result"
    }
   ],
   "source": [
    "encoder = Encoder(vocab_inp_size, embedding_dim, units, batch_size)\n",
    "\n",
    "sample_hidden = encoder.initialize_hidden_state()\n",
    "sample_output, sample_hidden = encoder(example_input_batch, sample_hidden)\n",
    "sample_output.shape, sample_hidden.shape"
   ]
  },
  {
   "cell_type": "code",
   "execution_count": 92,
   "metadata": {},
   "outputs": [],
   "source": [
    "class BahdanuAttention(keras.layers.Layer):\n",
    "    def __init__(self, units):\n",
    "        super(BahdanuAttention, self).__init__()\n",
    "        self.W1 = keras.layers.Dense(units)\n",
    "        self.W2 = keras.layers.Dense(units)\n",
    "        self.V = keras.layers.Dense(1)\n",
    "\n",
    "    def call(self, query, values):\n",
    "        query_with_time_axis = tf.expand_dims(query, 1)\n",
    "        score = self.V(tf.nn.tanh(self.W1(query_with_time_axis) + self.W2(values)))\n",
    "        attention_weights = tf.nn.softmax(score, axis=1)\n",
    "        context_vector = attention_weights * values\n",
    "        context_vector = tf.reduce_sum(context_vector, axis=1)\n",
    "        return context_vector, attention_weights"
   ]
  },
  {
   "cell_type": "code",
   "execution_count": 93,
   "metadata": {},
   "outputs": [
    {
     "data": {
      "text/plain": [
       "(TensorShape([256, 1024]), TensorShape([256, 17, 1]))"
      ]
     },
     "execution_count": 93,
     "metadata": {},
     "output_type": "execute_result"
    }
   ],
   "source": [
    "attention_layer = BahdanuAttention(20)\n",
    "attention_result, attention_weights = attention_layer(sample_hidden, sample_output)\n",
    "attention_result.shape, attention_weights.shape"
   ]
  },
  {
   "cell_type": "code",
   "execution_count": 94,
   "metadata": {},
   "outputs": [],
   "source": [
    "class Decoder(keras.Model):\n",
    "    def __init__(self, vocab_size, embedding_dim, decoding_units, batch_size):\n",
    "        super(Decoder, self).__init__()\n",
    "        self.batch_size = batch_size\n",
    "        self.decoding_units = decoding_units\n",
    "        self.embedding = keras.layers.Embedding(vocab_size, embedding_dim)\n",
    "        self.gru = keras.layers.GRU(self.decoding_units, return_sequences=True, return_state=True, recurrent_initializer=\"glorot_uniform\")\n",
    "        self.fc = keras.layers.Dense(vocab_size)\n",
    "        self.attention = BahdanuAttention(self.decoding_units)\n",
    "\n",
    "    def call(self, x, hidden, encoding_output):\n",
    "        context_vector, attention_weights = self.attention(hidden, encoding_output)\n",
    "        x = self.embedding(x)\n",
    "        x = tf.concat([tf.expand_dims(context_vector, 1), x], axis=-1)\n",
    "        output, state = self.gru(x)\n",
    "        output = tf.reshape(output, (-1, output.shape[2]))\n",
    "        x = self.fc(output)\n",
    "        return x, state, attention_weights"
   ]
  },
  {
   "cell_type": "code",
   "execution_count": 95,
   "metadata": {},
   "outputs": [
    {
     "data": {
      "text/plain": [
       "TensorShape([256, 20708])"
      ]
     },
     "execution_count": 95,
     "metadata": {},
     "output_type": "execute_result"
    }
   ],
   "source": [
    "decoder = Decoder(vocab_tar_size, embedding_dim, units, batch_size)\n",
    "sample_decoder_output, _, _ = decoder(tf.random.uniform((batch_size, 1)), sample_hidden, sample_output)\n",
    "sample_decoder_output.shape"
   ]
  },
  {
   "cell_type": "code",
   "execution_count": 96,
   "metadata": {},
   "outputs": [],
   "source": [
    "optimizer = tf.keras.optimizers.Adam()\n",
    "loss_object = tf.keras.losses.SparseCategoricalCrossentropy(from_logits=True, reduction='none')\n",
    "\n",
    "def loss_function(real, pred):\n",
    "    mask = tf.math.logical_not(tf.math.equal(real, 0))\n",
    "    loss_ = loss_object(real, pred)\n",
    "\n",
    "    mask = tf.cast(mask, dtype=loss_.dtype)\n",
    "    loss_ *= mask\n",
    "\n",
    "    return tf.reduce_mean(loss_)"
   ]
  },
  {
   "cell_type": "code",
   "execution_count": 97,
   "metadata": {},
   "outputs": [],
   "source": [
    "@tf.function\n",
    "def train_step(input, target, encoding_hidden):\n",
    "    loss = 0\n",
    "    \n",
    "    with tf.GradientTape() as tape:\n",
    "        encoding_output, encoding_hidden = encoder(input, encoding_hidden)\n",
    "        decoding_hidden = encoding_hidden\n",
    "        decoding_input = tf.expand_dims([targ_lang.word_index[\"<start>\"]] * batch_size, 1)\n",
    "        \n",
    "        for t in range(1, target.shape[1]):\n",
    "            predictions, decoding_hidden, _ = decoder(decoding_input, decoding_hidden, encoding_output)\n",
    "            loss += loss_function(target[:, t], predictions)\n",
    "            decoding_input = tf.expand_dims(target[:, t], 1)\n",
    "        \n",
    "        batch_loss = (loss / int(target.shape[1]))\n",
    "        variables = encoder.trainable_variables + decoder.trainable_variables\n",
    "        gradients = tape.gradient(loss, variables)\n",
    "        optimizer.apply_gradients(zip(gradients, variables))\n",
    "        return batch_loss"
   ]
  },
  {
   "cell_type": "code",
   "execution_count": 98,
   "metadata": {},
   "outputs": [
    {
     "name": "stdout",
     "output_type": "stream",
     "text": [
      "Epoch : 1    Batch : 0    Loss : 3.674436569213867\n",
      "Epoch : 1    Batch : 100    Loss : 1.9611549377441406\n",
      "Epoch : 1    Batch : 200    Loss : 1.8098548650741577\n",
      "Epoch : 1    Batch : 300    Loss : 1.7883329391479492\n",
      "Time taken for 1 epoch 136.57321643829346 sec\n",
      "\n",
      "Epoch : 2    Batch : 0    Loss : 1.7404159307479858\n",
      "Epoch : 2    Batch : 100    Loss : 1.7029027938842773\n",
      "Epoch : 2    Batch : 200    Loss : 1.5274641513824463\n",
      "Epoch : 2    Batch : 300    Loss : 1.5194475650787354\n",
      "Time taken for 1 epoch 114.26237964630127 sec\n",
      "\n",
      "Epoch : 3    Batch : 0    Loss : 1.451350450515747\n",
      "Epoch : 3    Batch : 100    Loss : 1.35951828956604\n",
      "Epoch : 3    Batch : 200    Loss : 1.3536344766616821\n",
      "Epoch : 3    Batch : 300    Loss : 1.2660406827926636\n",
      "Time taken for 1 epoch 114.7772045135498 sec\n",
      "\n",
      "Epoch : 4    Batch : 0    Loss : 1.2290763854980469\n",
      "Epoch : 4    Batch : 100    Loss : 1.1705677509307861\n",
      "Epoch : 4    Batch : 200    Loss : 1.1622554063796997\n",
      "Epoch : 4    Batch : 300    Loss : 1.0734319686889648\n",
      "Time taken for 1 epoch 145.80862092971802 sec\n",
      "\n",
      "Epoch : 5    Batch : 0    Loss : 1.0790013074874878\n",
      "Epoch : 5    Batch : 100    Loss : 1.0176972150802612\n",
      "Epoch : 5    Batch : 200    Loss : 0.9326139688491821\n",
      "Epoch : 5    Batch : 300    Loss : 1.0082340240478516\n",
      "Time taken for 1 epoch 148.51922225952148 sec\n",
      "\n",
      "Epoch : 6    Batch : 0    Loss : 0.9121909141540527\n",
      "Epoch : 6    Batch : 100    Loss : 0.846522331237793\n",
      "Epoch : 6    Batch : 200    Loss : 0.7771244049072266\n",
      "Epoch : 6    Batch : 300    Loss : 0.7535572052001953\n",
      "Time taken for 1 epoch 148.83745908737183 sec\n",
      "\n",
      "Epoch : 7    Batch : 0    Loss : 0.7064842581748962\n",
      "Epoch : 7    Batch : 100    Loss : 0.7018699049949646\n",
      "Epoch : 7    Batch : 200    Loss : 0.6587724089622498\n",
      "Epoch : 7    Batch : 300    Loss : 0.6670627593994141\n",
      "Time taken for 1 epoch 148.5724642276764 sec\n",
      "\n",
      "Epoch : 8    Batch : 0    Loss : 0.576840341091156\n",
      "Epoch : 8    Batch : 100    Loss : 0.5577153563499451\n",
      "Epoch : 8    Batch : 200    Loss : 0.5911847949028015\n",
      "Epoch : 8    Batch : 300    Loss : 0.4971819519996643\n",
      "Time taken for 1 epoch 148.7336483001709 sec\n",
      "\n",
      "Epoch : 9    Batch : 0    Loss : 0.3999605178833008\n",
      "Epoch : 9    Batch : 100    Loss : 0.45000991225242615\n",
      "Epoch : 9    Batch : 200    Loss : 0.43441858887672424\n",
      "Epoch : 9    Batch : 300    Loss : 0.42762717604637146\n",
      "Time taken for 1 epoch 148.57527327537537 sec\n",
      "\n",
      "Epoch : 10    Batch : 0    Loss : 0.4049557149410248\n",
      "Epoch : 10    Batch : 100    Loss : 0.3688127398490906\n",
      "Epoch : 10    Batch : 200    Loss : 0.4112032949924469\n",
      "Epoch : 10    Batch : 300    Loss : 0.3966383635997772\n",
      "Time taken for 1 epoch 149.3630268573761 sec\n",
      "\n",
      "Epoch : 11    Batch : 0    Loss : 0.28837910294532776\n",
      "Epoch : 11    Batch : 100    Loss : 0.29527243971824646\n",
      "Epoch : 11    Batch : 200    Loss : 0.2968848645687103\n",
      "Epoch : 11    Batch : 300    Loss : 0.3354301452636719\n",
      "Time taken for 1 epoch 148.88410878181458 sec\n",
      "\n",
      "Epoch : 12    Batch : 0    Loss : 0.2719673812389374\n",
      "Epoch : 12    Batch : 100    Loss : 0.28007620573043823\n",
      "Epoch : 12    Batch : 200    Loss : 0.2776610553264618\n",
      "Epoch : 12    Batch : 300    Loss : 0.27258455753326416\n",
      "Time taken for 1 epoch 147.81697845458984 sec\n",
      "\n",
      "Epoch : 13    Batch : 0    Loss : 0.2158287614583969\n",
      "Epoch : 13    Batch : 100    Loss : 0.2045060694217682\n",
      "Epoch : 13    Batch : 200    Loss : 0.2518991529941559\n",
      "Epoch : 13    Batch : 300    Loss : 0.24234285950660706\n",
      "Time taken for 1 epoch 148.05844736099243 sec\n",
      "\n",
      "Epoch : 14    Batch : 0    Loss : 0.20922212302684784\n",
      "Epoch : 14    Batch : 100    Loss : 0.21481171250343323\n",
      "Epoch : 14    Batch : 200    Loss : 0.21121858060359955\n",
      "Epoch : 14    Batch : 300    Loss : 0.25295940041542053\n",
      "Time taken for 1 epoch 147.30175828933716 sec\n",
      "\n",
      "Epoch : 15    Batch : 0    Loss : 0.182522252202034\n",
      "Epoch : 15    Batch : 100    Loss : 0.1764688938856125\n",
      "Epoch : 15    Batch : 200    Loss : 0.19281844794750214\n",
      "Epoch : 15    Batch : 300    Loss : 0.1965891718864441\n",
      "Time taken for 1 epoch 147.52343559265137 sec\n",
      "\n",
      "Epoch : 16    Batch : 0    Loss : 0.1436782032251358\n",
      "Epoch : 16    Batch : 100    Loss : 0.1585654765367508\n",
      "Epoch : 16    Batch : 200    Loss : 0.17140084505081177\n",
      "Epoch : 16    Batch : 300    Loss : 0.17826801538467407\n",
      "Time taken for 1 epoch 147.5183870792389 sec\n",
      "\n",
      "Epoch : 17    Batch : 0    Loss : 0.12085514515638351\n",
      "Epoch : 17    Batch : 100    Loss : 0.14301587641239166\n",
      "Epoch : 17    Batch : 200    Loss : 0.16151650249958038\n",
      "Epoch : 17    Batch : 300    Loss : 0.15518787503242493\n",
      "Time taken for 1 epoch 148.0848879814148 sec\n",
      "\n",
      "Epoch : 18    Batch : 0    Loss : 0.11397325247526169\n",
      "Epoch : 18    Batch : 100    Loss : 0.1221669465303421\n",
      "Epoch : 18    Batch : 200    Loss : 0.14765293896198273\n",
      "Epoch : 18    Batch : 300    Loss : 0.14712099730968475\n",
      "Time taken for 1 epoch 147.83398413658142 sec\n",
      "\n",
      "Epoch : 19    Batch : 0    Loss : 0.10987269878387451\n",
      "Epoch : 19    Batch : 100    Loss : 0.09970545023679733\n",
      "Epoch : 19    Batch : 200    Loss : 0.13029558956623077\n",
      "Epoch : 19    Batch : 300    Loss : 0.13455913960933685\n",
      "Time taken for 1 epoch 147.63093447685242 sec\n",
      "\n",
      "Epoch : 20    Batch : 0    Loss : 0.11102873086929321\n",
      "Epoch : 20    Batch : 100    Loss : 0.09563911706209183\n",
      "Epoch : 20    Batch : 200    Loss : 0.10428764671087265\n",
      "Epoch : 20    Batch : 300    Loss : 0.116563580930233\n",
      "Time taken for 1 epoch 147.57408380508423 sec\n",
      "\n"
     ]
    }
   ],
   "source": [
    "import time\n",
    "\n",
    "epochs = 20\n",
    "\n",
    "for epoch in range(epochs):\n",
    "    start = time.time()\n",
    "    encoding_hidden = encoder.initialize_hidden_state()\n",
    "    total_loss = 0\n",
    "\n",
    "    for (batch, (input, target)) in enumerate(dataset.take(steps_per_epoch)):\n",
    "        batch_loss = train_step(input, target, encoding_hidden)\n",
    "        total_loss += batch_loss\n",
    "\n",
    "        if batch % 100 == 0:\n",
    "            print(f\"Epoch : {epoch+1}    Batch : {batch}    Loss : {batch_loss.numpy()}\")\n",
    "\n",
    "    print('Time taken for 1 epoch {} sec\\n'.format(time.time() - start))"
   ]
  },
  {
   "cell_type": "code",
   "execution_count": 99,
   "metadata": {},
   "outputs": [],
   "source": [
    "def evaluate(sentence):\n",
    "    attention_plot = np.zeros((max_length_targ, max_length_inp))\n",
    "    sentence = preprocess_sentence(sentence)\n",
    "    \n",
    "    inputs = [inp_lang.word_index[i] for i in sentence.split(\" \")]\n",
    "    inputs = keras.preprocessing.sequence.pad_sequences([inputs], maxlen=max_length_inp, padding=\"post\")\n",
    "    inputs = tf.convert_to_tensor(inputs)\n",
    "\n",
    "    result = \"\"\n",
    "\n",
    "    hidden = [tf.zeros((1, units))]\n",
    "    encoding_output, encoding_hidden = encoder(inputs, hidden)\n",
    "    decoding_hidden = encoding_hidden\n",
    "    decoding_input = tf.expand_dims([targ_lang.word_index[\"<start>\"]], 0)\n",
    "\n",
    "    for t in range(max_length_targ):\n",
    "        prediction, decoding_hidden, attention_weights = decoder(decoding_input, decoding_hidden, encoding_output)\n",
    "        attention_weights = tf.reshape(attention_weights, (-1, ))\n",
    "        attention_plot[t] = attention_weights.numpy()\n",
    "        prediction_id = tf.argmax(prediction[0]).numpy()\n",
    "        result += targ_lang.index_word[prediction_id] + \" \"\n",
    "        \n",
    "        if targ_lang.index_word[prediction_id] == \"<end>\":\n",
    "            return result, sentence, attention_plot\n",
    "        \n",
    "        decoding_input = tf.expand_dims([prediction_id], 0)\n",
    "    return result, sentence, attention_plot"
   ]
  },
  {
   "cell_type": "code",
   "execution_count": 100,
   "metadata": {},
   "outputs": [],
   "source": [
    "def plot_attention(attention, sentence, predicted_sentence):\n",
    "    fig = plt.figure(figsize=(10,10))\n",
    "    ax = fig.add_subplot(1, 1, 1)\n",
    "    ax.matshow(attention, cmap='viridis')\n",
    "\n",
    "    fontdict = {'fontsize': 14}\n",
    "\n",
    "    ax.set_xticklabels([''] + sentence, fontdict=fontdict, rotation=90)\n",
    "    ax.set_yticklabels([''] + predicted_sentence, fontdict=fontdict)\n",
    "\n",
    "    ax.xaxis.set_major_locator(ticker.MultipleLocator(1))\n",
    "    ax.yaxis.set_major_locator(ticker.MultipleLocator(1))\n",
    "\n",
    "    plt.show()"
   ]
  },
  {
   "cell_type": "code",
   "execution_count": 101,
   "metadata": {},
   "outputs": [],
   "source": [
    "def translate(sentence):\n",
    "  result, sentence, attention_plot = evaluate(sentence)\n",
    "\n",
    "  print('Input: %s' % (sentence))\n",
    "  print('Predicted translation: {}'.format(result))\n",
    "\n",
    "  attention_plot = attention_plot[:len(result.split(' ')), :len(sentence.split(' '))]\n",
    "  plot_attention(attention_plot, sentence.split(' '), result.split(' '))"
   ]
  },
  {
   "cell_type": "code",
   "execution_count": 118,
   "metadata": {},
   "outputs": [
    {
     "name": "stdout",
     "output_type": "stream",
     "text": [
      "Input: <start> moon sun <end>\n",
      "Predicted translation: la luna enemigo . <end> \n"
     ]
    },
    {
     "name": "stderr",
     "output_type": "stream",
     "text": [
      "C:\\Users\\ozing\\miniconda3\\envs\\handson-ml2\\lib\\site-packages\\ipykernel_launcher.py:8: UserWarning: FixedFormatter should only be used together with FixedLocator\n",
      "  \n",
      "C:\\Users\\ozing\\miniconda3\\envs\\handson-ml2\\lib\\site-packages\\ipykernel_launcher.py:9: UserWarning: FixedFormatter should only be used together with FixedLocator\n",
      "  if __name__ == '__main__':\n"
     ]
    },
    {
     "data": {
      "image/png": "[encoded data removed]",
      "text/plain": [
       "<Figure size 720x720 with 1 Axes>"
      ]
     },
     "metadata": {
      "needs_background": "light"
     },
     "output_type": "display_data"
    }
   ],
   "source": [
    "translate(u\"moon sun\")"
   ]
  }
 ],
 "metadata": {
  "interpreter": {
   "hash": "c4e1c02ba9a4315c9c9b9f3ccdc568bf0028a114bbf7c4447cf8df78c88a2f71"
  },
  "kernelspec": {
   "display_name": "Python 3.7.12 ('handson-ml2')",
   "language": "python",
   "name": "python3"
  },
  "language_info": {
   "codemirror_mode": {
    "name": "ipython",
    "version": 3
   },
   "file_extension": ".py",
   "mimetype": "text/x-python",
   "name": "python",
   "nbconvert_exporter": "python",
   "pygments_lexer": "ipython3",
   "version": "3.7.12"
  },
  "orig_nbformat": 4
 },
 "nbformat": 4,
 "nbformat_minor": 2
}
