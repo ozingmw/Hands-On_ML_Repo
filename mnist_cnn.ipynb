{
 "cells": [
  {
   "cell_type": "code",
   "execution_count": 1,
   "metadata": {},
   "outputs": [],
   "source": [
    "import tensorflow as tf\n",
    "from tensorflow import keras\n",
    "import pandas as pd\n",
    "import numpy as np"
   ]
  },
  {
   "cell_type": "code",
   "execution_count": 2,
   "metadata": {},
   "outputs": [],
   "source": [
    "train_set = pd.read_csv(\"./datasets/mnist/train.csv\")\n",
    "test_set = pd.read_csv(\"./datasets/mnist/test.csv\")"
   ]
  },
  {
   "cell_type": "code",
   "execution_count": 3,
   "metadata": {},
   "outputs": [],
   "source": [
    "y_train = train_set[\"label\"]\n",
    "X_train = train_set.drop(\"label\", axis=1)\n",
    "X_test = test_set\n",
    "x_split_len = int(len(X_train) * 0.30)\n",
    "\n",
    "X_train, X_valid = X_train[x_split_len:], X_train[:x_split_len]\n",
    "y_train, y_valid = y_train[x_split_len:], y_train[:x_split_len]"
   ]
  },
  {
   "cell_type": "code",
   "execution_count": 4,
   "metadata": {},
   "outputs": [],
   "source": [
    "X_train = tf.reshape(X_train, [-1, 28, 28, 1])\n",
    "X_valid = tf.reshape(X_valid, [-1, 28, 28, 1])\n",
    "X_test = tf.reshape(X_test, [-1, 28, 28, 1])"
   ]
  },
  {
   "cell_type": "code",
   "execution_count": 5,
   "metadata": {},
   "outputs": [
    {
     "name": "stdout",
     "output_type": "stream",
     "text": [
      "Model: \"sequential\"\n",
      "_________________________________________________________________\n",
      " Layer (type)                Output Shape              Param #   \n",
      "=================================================================\n",
      " conv2d (Conv2D)             (None, 28, 28, 8)         80        \n",
      "                                                                 \n",
      " conv2d_1 (Conv2D)           (None, 28, 28, 16)        1168      \n",
      "                                                                 \n",
      " max_pooling2d (MaxPooling2D  (None, 14, 14, 16)       0         \n",
      " )                                                               \n",
      "                                                                 \n",
      " conv2d_2 (Conv2D)           (None, 14, 14, 64)        25664     \n",
      "                                                                 \n",
      " max_pooling2d_1 (MaxPooling  (None, 7, 7, 64)         0         \n",
      " 2D)                                                             \n",
      "                                                                 \n",
      " flatten (Flatten)           (None, 3136)              0         \n",
      "                                                                 \n",
      " dropout (Dropout)           (None, 3136)              0         \n",
      "                                                                 \n",
      " dense (Dense)               (None, 64)                200768    \n",
      "                                                                 \n",
      " dropout_1 (Dropout)         (None, 64)                0         \n",
      "                                                                 \n",
      " dense_1 (Dense)             (None, 10)                650       \n",
      "                                                                 \n",
      "=================================================================\n",
      "Total params: 228,330\n",
      "Trainable params: 228,330\n",
      "Non-trainable params: 0\n",
      "_________________________________________________________________\n"
     ]
    }
   ],
   "source": [
    "keras.backend.clear_session()\n",
    "\n",
    "model = keras.models.Sequential([\n",
    "    keras.layers.Conv2D(8, kernel_size=3, padding=\"same\", activation=\"relu\", input_shape=[28, 28, 1]),\n",
    "    keras.layers.Conv2D(16, kernel_size=3, padding=\"same\", activation=\"relu\"),\n",
    "    keras.layers.MaxPooling2D(2),\n",
    "    keras.layers.Conv2D(64, kernel_size=5, padding=\"same\", activation=\"relu\"),\n",
    "    keras.layers.MaxPooling2D(),\n",
    "    keras.layers.Flatten(),\n",
    "    keras.layers.Dropout(0.25),\n",
    "    keras.layers.Dense(64, activation=\"relu\"),\n",
    "    keras.layers.Dropout(0.5),\n",
    "    keras.layers.Dense(10, activation=\"softmax\"),\n",
    "])\n",
    "\n",
    "model.summary()"
   ]
  },
  {
   "cell_type": "code",
   "execution_count": 6,
   "metadata": {},
   "outputs": [
    {
     "name": "stdout",
     "output_type": "stream",
     "text": [
      "Epoch 1/100\n",
      "919/919 [==============================] - 15s 14ms/step - loss: 0.8401 - accuracy: 0.7334 - val_loss: 0.1070 - val_accuracy: 0.9683\n",
      "Epoch 2/100\n",
      "919/919 [==============================] - 12s 14ms/step - loss: 0.2424 - accuracy: 0.9267 - val_loss: 0.0886 - val_accuracy: 0.9754\n",
      "Epoch 3/100\n",
      "919/919 [==============================] - 13s 14ms/step - loss: 0.1678 - accuracy: 0.9494 - val_loss: 0.0558 - val_accuracy: 0.9849\n",
      "Epoch 4/100\n",
      "919/919 [==============================] - 13s 14ms/step - loss: 0.1339 - accuracy: 0.9607 - val_loss: 0.0518 - val_accuracy: 0.9840\n",
      "Epoch 5/100\n",
      "919/919 [==============================] - 12s 13ms/step - loss: 0.1170 - accuracy: 0.9643 - val_loss: 0.0460 - val_accuracy: 0.9866\n",
      "Epoch 6/100\n",
      "919/919 [==============================] - 12s 13ms/step - loss: 0.0984 - accuracy: 0.9713 - val_loss: 0.0453 - val_accuracy: 0.9879\n",
      "Epoch 7/100\n",
      "919/919 [==============================] - 12s 13ms/step - loss: 0.0910 - accuracy: 0.9733 - val_loss: 0.0427 - val_accuracy: 0.9891\n",
      "Epoch 8/100\n",
      "919/919 [==============================] - 12s 13ms/step - loss: 0.0795 - accuracy: 0.9763 - val_loss: 0.0466 - val_accuracy: 0.9877\n",
      "Epoch 9/100\n",
      "919/919 [==============================] - 12s 13ms/step - loss: 0.0762 - accuracy: 0.9771 - val_loss: 0.0428 - val_accuracy: 0.9889\n",
      "Epoch 10/100\n",
      "919/919 [==============================] - 12s 13ms/step - loss: 0.0709 - accuracy: 0.9788 - val_loss: 0.0441 - val_accuracy: 0.9889\n",
      "Epoch 11/100\n",
      "919/919 [==============================] - 12s 13ms/step - loss: 0.0600 - accuracy: 0.9814 - val_loss: 0.0538 - val_accuracy: 0.9871\n",
      "Epoch 12/100\n",
      "919/919 [==============================] - 12s 13ms/step - loss: 0.0648 - accuracy: 0.9813 - val_loss: 0.0465 - val_accuracy: 0.9881\n",
      "Epoch 13/100\n",
      "919/919 [==============================] - 12s 13ms/step - loss: 0.0600 - accuracy: 0.9816 - val_loss: 0.0453 - val_accuracy: 0.9888\n",
      "Epoch 14/100\n",
      "919/919 [==============================] - 13s 14ms/step - loss: 0.0512 - accuracy: 0.9855 - val_loss: 0.0412 - val_accuracy: 0.9900\n",
      "Epoch 15/100\n",
      "919/919 [==============================] - 12s 13ms/step - loss: 0.0543 - accuracy: 0.9835 - val_loss: 0.0463 - val_accuracy: 0.9894\n",
      "Epoch 16/100\n",
      "919/919 [==============================] - 12s 13ms/step - loss: 0.0590 - accuracy: 0.9827 - val_loss: 0.0430 - val_accuracy: 0.9894\n",
      "Epoch 17/100\n",
      "919/919 [==============================] - 12s 13ms/step - loss: 0.0505 - accuracy: 0.9852 - val_loss: 0.0433 - val_accuracy: 0.9905\n",
      "Epoch 18/100\n",
      "919/919 [==============================] - 12s 13ms/step - loss: 0.0476 - accuracy: 0.9861 - val_loss: 0.0558 - val_accuracy: 0.9888\n",
      "Epoch 19/100\n",
      "919/919 [==============================] - 12s 13ms/step - loss: 0.0529 - accuracy: 0.9845 - val_loss: 0.0535 - val_accuracy: 0.9888\n",
      "Epoch 20/100\n",
      "919/919 [==============================] - 12s 13ms/step - loss: 0.0482 - accuracy: 0.9848 - val_loss: 0.0494 - val_accuracy: 0.9901\n",
      "Epoch 21/100\n",
      "919/919 [==============================] - 12s 14ms/step - loss: 0.0425 - accuracy: 0.9873 - val_loss: 0.0451 - val_accuracy: 0.9907\n",
      "Epoch 22/100\n",
      "919/919 [==============================] - 12s 13ms/step - loss: 0.0447 - accuracy: 0.9878 - val_loss: 0.0520 - val_accuracy: 0.9892\n",
      "Epoch 23/100\n",
      "919/919 [==============================] - 12s 13ms/step - loss: 0.0405 - accuracy: 0.9875 - val_loss: 0.0513 - val_accuracy: 0.9904\n",
      "Epoch 24/100\n",
      "919/919 [==============================] - 12s 13ms/step - loss: 0.0484 - accuracy: 0.9861 - val_loss: 0.0459 - val_accuracy: 0.9913\n"
     ]
    }
   ],
   "source": [
    "model.compile(loss=\"sparse_categorical_crossentropy\", optimizer=keras.optimizers.Nadam(), metrics=[\"accuracy\"])\n",
    "\n",
    "cb_earlystopping = keras.callbacks.EarlyStopping(patience=10)\n",
    "cb_checkpoint = keras.callbacks.ModelCheckpoint(\"./models/my_mnist.h5\", save_best_only=True)\n",
    "\n",
    "history = model.fit(X_train, y_train, epochs=100, validation_data=(X_valid, y_valid), callbacks=[cb_earlystopping, cb_checkpoint])"
   ]
  },
  {
   "cell_type": "code",
   "execution_count": 7,
   "metadata": {},
   "outputs": [],
   "source": [
    "y_pred = model.predict(X_test)\n",
    "y_pred = np.argmax(y_pred, 1)\n",
    "\n",
    "pd_submit = pd.read_csv('./datasets/mnist/sample_submission.csv')\n",
    "pd_submit['Label'] = y_pred\n",
    "pd_submit.to_csv('./datasets/mnist/mnist_result.csv', header=True, index=False)"
   ]
  }
 ],
 "metadata": {
  "interpreter": {
   "hash": "c4e1c02ba9a4315c9c9b9f3ccdc568bf0028a114bbf7c4447cf8df78c88a2f71"
  },
  "kernelspec": {
   "display_name": "Python 3.7.12 ('handson-ml2')",
   "language": "python",
   "name": "python3"
  },
  "language_info": {
   "codemirror_mode": {
    "name": "ipython",
    "version": 3
   },
   "file_extension": ".py",
   "mimetype": "text/x-python",
   "name": "python",
   "nbconvert_exporter": "python",
   "pygments_lexer": "ipython3",
   "version": "3.7.12"
  },
  "orig_nbformat": 4
 },
 "nbformat": 4,
 "nbformat_minor": 2
}
